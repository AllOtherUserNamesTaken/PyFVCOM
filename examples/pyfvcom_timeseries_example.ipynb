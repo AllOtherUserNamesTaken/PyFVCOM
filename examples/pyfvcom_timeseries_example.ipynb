{
 "cells": [
  {
   "cell_type": "code",
   "execution_count": null,
   "metadata": {
    "collapsed": false
   },
   "outputs": [],
   "source": [
    "%matplotlib inline"
   ]
  },
  {
   "cell_type": "code",
   "execution_count": null,
   "metadata": {
    "collapsed": false
   },
   "outputs": [],
   "source": [
    "import numpy as np\n",
    "import matplotlib.pyplot as plt\n",
    "\n",
    "from netCDF4 import num2date\n",
    "from matplotlib import rcParams\n",
    "\n",
    "from PyFVCOM.read import MFileReader\n",
    "from PyFVCOM.plot import Time"
   ]
  },
  {
   "cell_type": "code",
   "execution_count": null,
   "metadata": {
    "collapsed": false
   },
   "outputs": [],
   "source": [
    "# Multiple output files can be loaded with MFileReader.\n",
    "files = ['sample_april.nc', 'sample_may.nc', 'sample_june.nc']\n",
    "\n",
    "# Positions we're interested in plotting. The find_nearest_point \n",
    "# function will find the closest node in the unstructured grid.\n",
    "xy = np.array(((-4.5, 55), (-6.9, 52)))  # lon, lat pairs\n",
    "\n",
    "# Extract only the surface layer for the plot.\n",
    "dims = {'siglay': [0]}\n",
    "\n",
    "# Our variables of interest.\n",
    "varlist = ['temp']\n",
    "\n",
    "fvcom = MFileReader(files, variables=varlist, dims=dims)"
   ]
  },
  {
   "cell_type": "code",
   "execution_count": null,
   "metadata": {
    "collapsed": false
   },
   "outputs": [],
   "source": [
    "# Find the nodes in the grid closest to the positions we're interested in plotting.\n",
    "indices = [fvcom.closest_node(i) for i in xy]"
   ]
  },
  {
   "cell_type": "code",
   "execution_count": null,
   "metadata": {
    "collapsed": false
   },
   "outputs": [],
   "source": [
    "# Now plot the time series.\n",
    "fig = plt.figure(figsize=(14, 7))  # size in inches\n",
    "for c, ind in enumerate(indices):\n",
    "    ax = fig.add_subplot(len(indices), 1, c + 1)\n",
    "    time = Time(fvcom, figure=fig, axes=ax)\n",
    "    time.plot_line(fvcom.data.temp[:, 0, ind])\n",
    "    time.axes.set_title('Sea surface temperature nearest to position {}, {}'.format(*xy[c, :]))\n",
    "    time.axes.set_ylabel('{} ({})'.format(fvcom.atts.temp.long_name, fvcom.atts.temp.units))"
   ]
  },
  {
   "cell_type": "code",
   "execution_count": null,
   "metadata": {
    "collapsed": false
   },
   "outputs": [],
   "source": []
  }
 ],
 "metadata": {
  "kernelspec": {
   "display_name": "Python 3",
   "language": "python",
   "name": "python3"
  },
  "language_info": {
   "codemirror_mode": {
    "name": "ipython",
    "version": 3
   },
   "file_extension": ".py",
   "mimetype": "text/x-python",
   "name": "python",
   "nbconvert_exporter": "python",
   "pygments_lexer": "ipython3",
   "version": "3.5.3"
  }
 },
 "nbformat": 4,
 "nbformat_minor": 0
}
