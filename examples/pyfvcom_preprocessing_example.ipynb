{
 "cells": [
  {
   "cell_type": "markdown",
   "metadata": {},
   "source": [
    "This notebook shows how to create FVCOM forcing data for an unstructured grid.\n",
    "\n",
    "We need an SMS unstructured grid (`.2dm` file) in which we have defined some nodestrings to act as open boundaries.\n",
    "\n",
    "We'll be making the following files:\n",
    "\n",
    "- casename_grd.dat\n",
    "- casename_dep.dat\n",
    "- sigma.dat\n",
    "- casename_obc.dat\n",
    "- casename_cor.dat\n",
    "- casename_elevtide.nc\n"
   ]
  },
  {
   "cell_type": "code",
   "execution_count": 1,
   "metadata": {
    "collapsed": true
   },
   "outputs": [],
   "source": [
    "%matplotlib inline"
   ]
  },
  {
   "cell_type": "code",
   "execution_count": 2,
   "metadata": {
    "collapsed": true
   },
   "outputs": [],
   "source": [
    "from datetime import datetime\n",
    "import PyFVCOM as pf"
   ]
  },
  {
   "cell_type": "code",
   "execution_count": 4,
   "metadata": {
    "collapsed": false
   },
   "outputs": [],
   "source": [
    "# Define a start, end and sampling interval for the tidal data\n",
    "start = datetime.strptime('2018-04-01', '%Y-%m-%d')\n",
    "end = datetime.strptime('2018-05-01', '%Y-%m-%d')\n",
    "interval = 1 / 24  # 1 hourly in units of days\n",
    "model = pf.preproc.Model(start, end, 'estuary.2dm', sampling=interval,\n",
    "                         native_coordinates='spherical', zone='20N')"
   ]
  },
  {
   "cell_type": "code",
   "execution_count": 5,
   "metadata": {
    "collapsed": true
   },
   "outputs": [],
   "source": [
    "# Define everything we need for the open boundaries.\n",
    "\n",
    "# We need the TPXO data to predict tides at the boundary. Get that from here:\n",
    "#    ftp://ftp.oce.orst.edu/dist/tides/Global/tpxo9_netcdf.tar.gz\n",
    "# and extract its contents in the PyFVCOM/examples directory.\n",
    "tpxo_harmonics = 'h_tpxo9.v1.nc'\n",
    "constituents = ['M2', 'S2']\n",
    "for boundary in model.open_boundaries:\n",
    "    # Create a 5km sponge layer for all open boundaries.\n",
    "    boundary.add_sponge_layer(5000, 0.001)\n",
    "    # Set the type of open boundary we've got.\n",
    "    boundary.add_type(1)  # prescribed surface elevation\n",
    "    # And add some tidal data.\n",
    "    boundary.add_tpxo_tides(tpxo_harmonics, predict='zeta', constituents=constituents, interval=interval)"
   ]
  },
  {
   "cell_type": "code",
   "execution_count": 6,
   "metadata": {
    "collapsed": false
   },
   "outputs": [],
   "source": [
    "# Make a vertical grid with 21 uniform levels\n",
    "model.sigma.type = 'uniform'\n",
    "model.dims.levels = 21"
   ]
  },
  {
   "cell_type": "code",
   "execution_count": 7,
   "metadata": {
    "collapsed": false
   },
   "outputs": [],
   "source": [
    "# Write out the files for FVCOM.\n",
    "model.write_grid('estuary_grd.dat', depth_file='estuary_dep.dat')\n",
    "model.write_sponge('estuary_spg.dat')\n",
    "model.write_obc('estuary_obc.dat')\n",
    "model.write_coriolis('estuary_cor.dat')\n",
    "model.write_sigma('sigma.dat')\n",
    "model.write_tides('estuary_elevtide.nc')"
   ]
  },
  {
   "cell_type": "code",
   "execution_count": 9,
   "metadata": {
    "collapsed": false
   },
   "outputs": [
    {
     "data": {
      "image/png": "[encoded data removed]",
      "text/plain": [
       "<matplotlib.figure.Figure at 0x7faa71cdb630>"
      ]
     },
     "metadata": {},
     "output_type": "display_data"
    }
   ],
   "source": [
    "# Let's have a look at the grid we've just worked on.\n",
    "mesh = pf.read.Domain('estuary.2dm', native_coordinates='spherical', zone='20N')\n",
    "domain = pf.plot.Plotter(mesh, figsize=(20, 10), tick_inc=(0.1, 0.05), cb_label='Depth (m)')\n",
    "domain.plot_field(-mesh.grid.h)\n",
    "for boundary in model.open_boundaries:\n",
    "    domain.axes.plot(*domain.m(boundary.grid.lon, boundary.grid.lat), 'ro')"
   ]
  }
 ],
 "metadata": {
  "kernelspec": {
   "display_name": "Python 3",
   "language": "python",
   "name": "python3"
  },
  "language_info": {
   "codemirror_mode": {
    "name": "ipython",
    "version": 3
   },
   "file_extension": ".py",
   "mimetype": "text/x-python",
   "name": "python",
   "nbconvert_exporter": "python",
   "pygments_lexer": "ipython3",
   "version": "3.5.3"
  }
 },
 "nbformat": 4,
 "nbformat_minor": 0
}
